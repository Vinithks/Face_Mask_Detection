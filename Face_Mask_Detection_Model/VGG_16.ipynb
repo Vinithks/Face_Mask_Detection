{
 "cells": [
  {
   "cell_type": "markdown",
   "id": "2ba0ff55",
   "metadata": {},
   "source": [
    "# <font color='brown'>Face Mask Detection Model - VGG16</font>"
   ]
  },
  {
   "cell_type": "markdown",
   "id": "b42a75d1",
   "metadata": {},
   "source": [
    "### Importing the Necessary Packages"
   ]
  },
  {
   "cell_type": "code",
   "execution_count": 1,
   "id": "095cbe50",
   "metadata": {},
   "outputs": [],
   "source": [
    "from imutils import paths #To import path of the images in dataset\n",
    "import matplotlib.pyplot as plt # To use plots for visualisation\n",
    "import numpy as np # Array handling library\n",
    "import os # For file handling\n",
    "\n",
    "from tensorflow.keras.preprocessing.image import ImageDataGenerator # For Data Augmentation\n",
    "from tensorflow.keras.applications.vgg16 import VGG16 # Deep Neural network model trained on Imagenet Dataset of Google\n",
    "\n",
    "from tensorflow.keras.layers import AveragePooling2D # To Construct Pooling Layer\n",
    "from tensorflow.keras.layers import Dropout # To Dropout the inputs for tackling overfitting \n",
    "from tensorflow.keras.layers import Flatten # Flatten the multidimension to single dimension\n",
    "from tensorflow.keras.layers import Dense # Output layer - Fully connected\n",
    "from tensorflow.keras.layers import Input # To create an Input layer without using Input Layer\n",
    "from tensorflow.keras.models import Model # To group layers into an object \n",
    "\n",
    "from tensorflow.keras.optimizers import Adam # Optimizer for Training the Model\n",
    "\n",
    "# Image Pre-Processing for Training the model\n",
    "from tensorflow.keras.applications.vgg16 import preprocess_input\n",
    "from tensorflow.keras.preprocessing.image import img_to_array\n",
    "from tensorflow.keras.preprocessing.image import load_img\n",
    "\n",
    "# One-Hot encoding of the labels\n",
    "from tensorflow.keras.utils import to_categorical\n",
    "from sklearn.preprocessing import LabelBinarizer\n",
    "\n",
    "from sklearn.model_selection import train_test_split # To Split the Dataset into Train & Test\n",
    "from sklearn.metrics import classification_report # To Print a Classification Report\n",
    "from sklearn.metrics import confusion_matrix # To Print a Confusion matrix\n",
    "import seaborn as sns # To plot a Confusion Matrix"
   ]
  },
  {
   "cell_type": "markdown",
   "id": "cad69d86",
   "metadata": {},
   "source": [
    "### Creating an Object for Images and Label"
   ]
  },
  {
   "cell_type": "code",
   "execution_count": 2,
   "id": "299d08de",
   "metadata": {},
   "outputs": [],
   "source": [
    "image_paths = list(paths.list_images('/Users/vinith/Desktop/Dissertation/dataset')) # Getting the image paths\n",
    "data = [] # list object to store images\n",
    "labels = [] # list object to store labels  "
   ]
  },
  {
   "cell_type": "markdown",
   "id": "8899212d",
   "metadata": {},
   "source": [
    "### Looping over the image dataset to append them on respective lists"
   ]
  },
  {
   "cell_type": "code",
   "execution_count": 3,
   "id": "a36b7889",
   "metadata": {},
   "outputs": [
    {
     "name": "stderr",
     "output_type": "stream",
     "text": [
      "/Users/vinith/tensorflow-test/env/lib/python3.8/site-packages/PIL/Image.py:959: UserWarning: Palette images with Transparency expressed in bytes should be converted to RGBA images\n",
      "  warnings.warn(\n"
     ]
    }
   ],
   "source": [
    "for image_path in image_paths: # looping over the image_paths \n",
    "    lab = image_path.split(os.path.sep)[-2] # extracting the class label from the filename\n",
    "    \n",
    "    # load the input_image with target resolution (224x224) and preprocess it\n",
    "    img = load_img(image_path, target_size=(224, 224))\n",
    "    img = img_to_array(img)\n",
    "    img = preprocess_input(img)\n",
    "\n",
    "    # update the data and labels lists, respectively\n",
    "    data.append(img)\n",
    "    labels.append(lab)"
   ]
  },
  {
   "cell_type": "markdown",
   "id": "24e959c8",
   "metadata": {},
   "source": [
    "### Convert the data and labels to NumPy arrays"
   ]
  },
  {
   "cell_type": "code",
   "execution_count": 4,
   "id": "78b2aa0e",
   "metadata": {},
   "outputs": [],
   "source": [
    "data = np.array(data, dtype=\"float32\") # converting imagedata into array  \n",
    "labels = np.array(labels) # converting label data into array "
   ]
  },
  {
   "cell_type": "code",
   "execution_count": 5,
   "id": "d85ceb4f",
   "metadata": {},
   "outputs": [
    {
     "data": {
      "text/plain": [
       "(4092, 224, 224, 3)"
      ]
     },
     "execution_count": 5,
     "metadata": {},
     "output_type": "execute_result"
    }
   ],
   "source": [
    "data.shape"
   ]
  },
  {
   "cell_type": "code",
   "execution_count": 6,
   "id": "c160a244",
   "metadata": {},
   "outputs": [
    {
     "data": {
      "text/plain": [
       "(4092,)"
      ]
     },
     "execution_count": 6,
     "metadata": {},
     "output_type": "execute_result"
    }
   ],
   "source": [
    "labels.shape"
   ]
  },
  {
   "cell_type": "markdown",
   "id": "2640af86",
   "metadata": {},
   "source": [
    "### One-Hot Encoding of Categorical Variable"
   ]
  },
  {
   "cell_type": "code",
   "execution_count": 7,
   "id": "5f289952",
   "metadata": {},
   "outputs": [],
   "source": [
    "# One-Hot encoding using LabelBinarizer() technique\n",
    "lb = LabelBinarizer()\n",
    "labels = lb.fit_transform(labels)\n",
    "labels = to_categorical(labels)"
   ]
  },
  {
   "cell_type": "markdown",
   "id": "cb52b36b",
   "metadata": {},
   "source": [
    "### Train & Test Split"
   ]
  },
  {
   "cell_type": "code",
   "execution_count": 8,
   "id": "74ab81bf",
   "metadata": {},
   "outputs": [],
   "source": [
    "# Splitting the training and testing data in the ratio of 80/20.\n",
    "(X_train, X_test, y_train, y_test) = train_test_split(data, labels,test_size=0.20, stratify=labels, random_state=45)"
   ]
  },
  {
   "cell_type": "code",
   "execution_count": 9,
   "id": "726e399a",
   "metadata": {},
   "outputs": [
    {
     "data": {
      "text/plain": [
       "(3273, 224, 224, 3)"
      ]
     },
     "execution_count": 9,
     "metadata": {},
     "output_type": "execute_result"
    }
   ],
   "source": [
    "X_train.shape"
   ]
  },
  {
   "cell_type": "code",
   "execution_count": 10,
   "id": "c9ce5790",
   "metadata": {},
   "outputs": [
    {
     "data": {
      "text/plain": [
       "(819, 224, 224, 3)"
      ]
     },
     "execution_count": 10,
     "metadata": {},
     "output_type": "execute_result"
    }
   ],
   "source": [
    "X_test.shape"
   ]
  },
  {
   "cell_type": "markdown",
   "id": "2a144992",
   "metadata": {},
   "source": [
    "### Data Augmentation"
   ]
  },
  {
   "cell_type": "code",
   "execution_count": 11,
   "id": "1dc65f02",
   "metadata": {},
   "outputs": [],
   "source": [
    "# constructing the training image_generator for image transformation\n",
    "augment = ImageDataGenerator(rotation_range=20,zoom_range=0.15,width_shift_range=0.2,height_shift_range=0.2,\n",
    "                         shear_range=0.15,horizontal_flip=True,fill_mode=\"nearest\")"
   ]
  },
  {
   "cell_type": "markdown",
   "id": "99837f40",
   "metadata": {},
   "source": [
    "### Loading a Pre_trained Model MobilenetV2"
   ]
  },
  {
   "cell_type": "code",
   "execution_count": 12,
   "id": "aa0a22f9",
   "metadata": {},
   "outputs": [
    {
     "name": "stderr",
     "output_type": "stream",
     "text": [
      "2022-12-09 12:14:33.285176: I tensorflow/core/common_runtime/pluggable_device/pluggable_device_factory.cc:305] Could not identify NUMA node of platform GPU ID 0, defaulting to 0. Your kernel may not have been built with NUMA support.\n",
      "2022-12-09 12:14:33.285597: I tensorflow/core/common_runtime/pluggable_device/pluggable_device_factory.cc:271] Created TensorFlow device (/job:localhost/replica:0/task:0/device:GPU:0 with 0 MB memory) -> physical PluggableDevice (device: 0, name: METAL, pci bus id: <undefined>)\n"
     ]
    },
    {
     "name": "stdout",
     "output_type": "stream",
     "text": [
      "Metal device set to: Apple M1\n",
      "Model: \"vgg16\"\n",
      "_________________________________________________________________\n",
      " Layer (type)                Output Shape              Param #   \n",
      "=================================================================\n",
      " input_1 (InputLayer)        [(None, 224, 224, 3)]     0         \n",
      "                                                                 \n",
      " block1_conv1 (Conv2D)       (None, 224, 224, 64)      1792      \n",
      "                                                                 \n",
      " block1_conv2 (Conv2D)       (None, 224, 224, 64)      36928     \n",
      "                                                                 \n",
      " block1_pool (MaxPooling2D)  (None, 112, 112, 64)      0         \n",
      "                                                                 \n",
      " block2_conv1 (Conv2D)       (None, 112, 112, 128)     73856     \n",
      "                                                                 \n",
      " block2_conv2 (Conv2D)       (None, 112, 112, 128)     147584    \n",
      "                                                                 \n",
      " block2_pool (MaxPooling2D)  (None, 56, 56, 128)       0         \n",
      "                                                                 \n",
      " block3_conv1 (Conv2D)       (None, 56, 56, 256)       295168    \n",
      "                                                                 \n",
      " block3_conv2 (Conv2D)       (None, 56, 56, 256)       590080    \n",
      "                                                                 \n",
      " block3_conv3 (Conv2D)       (None, 56, 56, 256)       590080    \n",
      "                                                                 \n",
      " block3_pool (MaxPooling2D)  (None, 28, 28, 256)       0         \n",
      "                                                                 \n",
      " block4_conv1 (Conv2D)       (None, 28, 28, 512)       1180160   \n",
      "                                                                 \n",
      " block4_conv2 (Conv2D)       (None, 28, 28, 512)       2359808   \n",
      "                                                                 \n",
      " block4_conv3 (Conv2D)       (None, 28, 28, 512)       2359808   \n",
      "                                                                 \n",
      " block4_pool (MaxPooling2D)  (None, 14, 14, 512)       0         \n",
      "                                                                 \n",
      " block5_conv1 (Conv2D)       (None, 14, 14, 512)       2359808   \n",
      "                                                                 \n",
      " block5_conv2 (Conv2D)       (None, 14, 14, 512)       2359808   \n",
      "                                                                 \n",
      " block5_conv3 (Conv2D)       (None, 14, 14, 512)       2359808   \n",
      "                                                                 \n",
      " block5_pool (MaxPooling2D)  (None, 7, 7, 512)         0         \n",
      "                                                                 \n",
      "=================================================================\n",
      "Total params: 14,714,688\n",
      "Trainable params: 14,714,688\n",
      "Non-trainable params: 0\n",
      "_________________________________________________________________\n"
     ]
    }
   ],
   "source": [
    "# loading the MobileNetV2 pretrained model with weights of imagent dataset\n",
    "# Also remove the last fully connected layer\n",
    "bm = VGG16(weights=\"imagenet\", include_top=False, input_tensor=Input(shape=(224, 224, 3)))\n",
    "bm.summary()"
   ]
  },
  {
   "cell_type": "code",
   "execution_count": 13,
   "id": "f78d8108",
   "metadata": {},
   "outputs": [],
   "source": [
    "# constructing the Output fully connected layer with output of 2 category\n",
    "hm = bm.output\n",
    "hm = AveragePooling2D(pool_size=(7, 7))(hm) # a layer with average pooling size of (7,7)\n",
    "hm = Flatten(name=\"flatten\")(hm) # Flatten the layer into single dimension\n",
    "hm = Dense(128, activation=\"relu\")(hm) # Output layer of 128\n",
    "hm = Dropout(0.5)(hm) # Dropout 50% of the neurons\n",
    "hm = Dense(2, activation=\"softmax\")(hm) # Fianl Output Layer with 2 Categories"
   ]
  },
  {
   "cell_type": "code",
   "execution_count": 14,
   "id": "47edb64c",
   "metadata": {},
   "outputs": [
    {
     "name": "stdout",
     "output_type": "stream",
     "text": [
      "Model: \"model\"\n",
      "_________________________________________________________________\n",
      " Layer (type)                Output Shape              Param #   \n",
      "=================================================================\n",
      " input_1 (InputLayer)        [(None, 224, 224, 3)]     0         \n",
      "                                                                 \n",
      " block1_conv1 (Conv2D)       (None, 224, 224, 64)      1792      \n",
      "                                                                 \n",
      " block1_conv2 (Conv2D)       (None, 224, 224, 64)      36928     \n",
      "                                                                 \n",
      " block1_pool (MaxPooling2D)  (None, 112, 112, 64)      0         \n",
      "                                                                 \n",
      " block2_conv1 (Conv2D)       (None, 112, 112, 128)     73856     \n",
      "                                                                 \n",
      " block2_conv2 (Conv2D)       (None, 112, 112, 128)     147584    \n",
      "                                                                 \n",
      " block2_pool (MaxPooling2D)  (None, 56, 56, 128)       0         \n",
      "                                                                 \n",
      " block3_conv1 (Conv2D)       (None, 56, 56, 256)       295168    \n",
      "                                                                 \n",
      " block3_conv2 (Conv2D)       (None, 56, 56, 256)       590080    \n",
      "                                                                 \n",
      " block3_conv3 (Conv2D)       (None, 56, 56, 256)       590080    \n",
      "                                                                 \n",
      " block3_pool (MaxPooling2D)  (None, 28, 28, 256)       0         \n",
      "                                                                 \n",
      " block4_conv1 (Conv2D)       (None, 28, 28, 512)       1180160   \n",
      "                                                                 \n",
      " block4_conv2 (Conv2D)       (None, 28, 28, 512)       2359808   \n",
      "                                                                 \n",
      " block4_conv3 (Conv2D)       (None, 28, 28, 512)       2359808   \n",
      "                                                                 \n",
      " block4_pool (MaxPooling2D)  (None, 14, 14, 512)       0         \n",
      "                                                                 \n",
      " block5_conv1 (Conv2D)       (None, 14, 14, 512)       2359808   \n",
      "                                                                 \n",
      " block5_conv2 (Conv2D)       (None, 14, 14, 512)       2359808   \n",
      "                                                                 \n",
      " block5_conv3 (Conv2D)       (None, 14, 14, 512)       2359808   \n",
      "                                                                 \n",
      " block5_pool (MaxPooling2D)  (None, 7, 7, 512)         0         \n",
      "                                                                 \n",
      " average_pooling2d (AverageP  (None, 1, 1, 512)        0         \n",
      " ooling2D)                                                       \n",
      "                                                                 \n",
      " flatten (Flatten)           (None, 512)               0         \n",
      "                                                                 \n",
      " dense (Dense)               (None, 128)               65664     \n",
      "                                                                 \n",
      " dropout (Dropout)           (None, 128)               0         \n",
      "                                                                 \n",
      " dense_1 (Dense)             (None, 2)                 258       \n",
      "                                                                 \n",
      "=================================================================\n",
      "Total params: 14,780,610\n",
      "Trainable params: 14,780,610\n",
      "Non-trainable params: 0\n",
      "_________________________________________________________________\n"
     ]
    }
   ],
   "source": [
    "# Now place the created layers of output on the base model \n",
    "# to construct a model that produces output with 2 categories\n",
    "main_model = Model(inputs=bm.input, outputs=hm)\n",
    "main_model.summary()"
   ]
  },
  {
   "cell_type": "code",
   "execution_count": 15,
   "id": "a0449f1f",
   "metadata": {},
   "outputs": [],
   "source": [
    "# Freezing all the layers in the base model bm\n",
    "for layer in bm.layers:\n",
    "    layer.trainable = False"
   ]
  },
  {
   "cell_type": "markdown",
   "id": "49a25bbe",
   "metadata": {},
   "source": [
    "### Initialising the learning rate, Number of Epoch for training & Batch Size"
   ]
  },
  {
   "cell_type": "code",
   "execution_count": 16,
   "id": "07bae60b",
   "metadata": {},
   "outputs": [],
   "source": [
    "lrate = 1e-4 # 0.0001 while calculating gradients \n",
    "epoch = 10 # No. of Epoch\n",
    "bs = 32"
   ]
  },
  {
   "cell_type": "markdown",
   "id": "75cb2a46",
   "metadata": {},
   "source": [
    "### Model Compilation"
   ]
  },
  {
   "cell_type": "code",
   "execution_count": 17,
   "id": "2e3446be",
   "metadata": {},
   "outputs": [
    {
     "name": "stderr",
     "output_type": "stream",
     "text": [
      "/Users/vinith/tensorflow-test/env/lib/python3.8/site-packages/keras/optimizer_v2/adam.py:105: UserWarning: The `lr` argument is deprecated, use `learning_rate` instead.\n",
      "  super(Adam, self).__init__(name, **kwargs)\n"
     ]
    }
   ],
   "source": [
    "opt = Adam(lr=lrate, decay=lrate / epoch)\n",
    "main_model.compile(loss=\"binary_crossentropy\", optimizer=opt,\n",
    "metrics=[\"accuracy\"])"
   ]
  },
  {
   "cell_type": "markdown",
   "id": "da858944",
   "metadata": {},
   "source": [
    "### Model Training"
   ]
  },
  {
   "cell_type": "code",
   "execution_count": 18,
   "id": "c3981118",
   "metadata": {},
   "outputs": [
    {
     "name": "stdout",
     "output_type": "stream",
     "text": [
      "Epoch 1/10\n"
     ]
    },
    {
     "name": "stderr",
     "output_type": "stream",
     "text": [
      "2022-12-09 12:14:34.231589: W tensorflow/core/platform/profile_utils/cpu_utils.cc:128] Failed to get CPU frequency: 0 Hz\n",
      "2022-12-09 12:14:34.530324: I tensorflow/core/grappler/optimizers/custom_graph_optimizer_registry.cc:113] Plugin optimizer for device_type GPU is enabled.\n"
     ]
    },
    {
     "name": "stdout",
     "output_type": "stream",
     "text": [
      "102/102 [==============================] - ETA: 0s - loss: 1.1860 - accuracy: 0.6902"
     ]
    },
    {
     "name": "stderr",
     "output_type": "stream",
     "text": [
      "2022-12-09 12:15:36.290504: I tensorflow/core/grappler/optimizers/custom_graph_optimizer_registry.cc:113] Plugin optimizer for device_type GPU is enabled.\n"
     ]
    },
    {
     "name": "stdout",
     "output_type": "stream",
     "text": [
      "102/102 [==============================] - 78s 756ms/step - loss: 1.1860 - accuracy: 0.6902 - val_loss: 0.2189 - val_accuracy: 0.9499\n",
      "Epoch 2/10\n",
      "102/102 [==============================] - 84s 819ms/step - loss: 0.3567 - accuracy: 0.9062 - val_loss: 0.1059 - val_accuracy: 0.9756\n",
      "Epoch 3/10\n",
      "102/102 [==============================] - 83s 811ms/step - loss: 0.2068 - accuracy: 0.9512 - val_loss: 0.0855 - val_accuracy: 0.9780\n",
      "Epoch 4/10\n",
      "102/102 [==============================] - 84s 819ms/step - loss: 0.1491 - accuracy: 0.9630 - val_loss: 0.0708 - val_accuracy: 0.9792\n",
      "Epoch 5/10\n",
      "102/102 [==============================] - 85s 836ms/step - loss: 0.1098 - accuracy: 0.9722 - val_loss: 0.0670 - val_accuracy: 0.9792\n",
      "Epoch 6/10\n",
      "102/102 [==============================] - 87s 855ms/step - loss: 0.0834 - accuracy: 0.9846 - val_loss: 0.0660 - val_accuracy: 0.9792\n",
      "Epoch 7/10\n",
      "102/102 [==============================] - 89s 871ms/step - loss: 0.0812 - accuracy: 0.9796 - val_loss: 0.0579 - val_accuracy: 0.9829\n",
      "Epoch 8/10\n",
      "102/102 [==============================] - 93s 912ms/step - loss: 0.0749 - accuracy: 0.9836 - val_loss: 0.0562 - val_accuracy: 0.9829\n",
      "Epoch 9/10\n",
      "102/102 [==============================] - 92s 899ms/step - loss: 0.0623 - accuracy: 0.9840 - val_loss: 0.0628 - val_accuracy: 0.9817\n",
      "Epoch 10/10\n",
      "102/102 [==============================] - 90s 886ms/step - loss: 0.0543 - accuracy: 0.9864 - val_loss: 0.0528 - val_accuracy: 0.9829\n"
     ]
    }
   ],
   "source": [
    "History = main_model.fit(augment.flow(X_train, y_train, batch_size=bs),\n",
    "steps_per_epoch=len(X_train) // bs,\n",
    "validation_data=(X_test, y_test),\n",
    "validation_steps=len(X_test) // bs,\n",
    "epochs=epoch)"
   ]
  },
  {
   "cell_type": "markdown",
   "id": "8c191d9f",
   "metadata": {},
   "source": [
    "### Making Prediction"
   ]
  },
  {
   "cell_type": "code",
   "execution_count": 19,
   "id": "936c01d3",
   "metadata": {},
   "outputs": [
    {
     "name": "stderr",
     "output_type": "stream",
     "text": [
      "2022-12-09 12:29:03.130689: I tensorflow/core/grappler/optimizers/custom_graph_optimizer_registry.cc:113] Plugin optimizer for device_type GPU is enabled.\n"
     ]
    }
   ],
   "source": [
    "# making predictions over the testing set\n",
    "pred_idx = main_model.predict(X_test, batch_size=bs) # using the trained model to predict the labels of testing set"
   ]
  },
  {
   "cell_type": "code",
   "execution_count": 20,
   "id": "f0b71e43",
   "metadata": {},
   "outputs": [],
   "source": [
    "pred_idx = np.argmax(pred_idx, axis=1) # using argmax function to predict probability of predicted labels"
   ]
  },
  {
   "cell_type": "markdown",
   "id": "f21c948f",
   "metadata": {},
   "source": [
    "### Classification Report"
   ]
  },
  {
   "cell_type": "code",
   "execution_count": 21,
   "id": "0df72c56",
   "metadata": {},
   "outputs": [
    {
     "name": "stdout",
     "output_type": "stream",
     "text": [
      "              precision    recall  f1-score   support\n",
      "\n",
      "   with_mask       0.97      1.00      0.98       433\n",
      "without_mask       0.99      0.97      0.98       386\n",
      "\n",
      "    accuracy                           0.98       819\n",
      "   macro avg       0.98      0.98      0.98       819\n",
      "weighted avg       0.98      0.98      0.98       819\n",
      "\n"
     ]
    }
   ],
   "source": [
    "# show a nicely formatted classification report\n",
    "print(classification_report(y_test.argmax(axis=1), pred_idx,target_names=lb.classes_))"
   ]
  },
  {
   "cell_type": "markdown",
   "id": "903e8a99",
   "metadata": {},
   "source": [
    "### Confusion Matrix"
   ]
  },
  {
   "cell_type": "code",
   "execution_count": 22,
   "id": "2799bf1b",
   "metadata": {},
   "outputs": [
    {
     "data": {
      "text/plain": [
       "array([[431,   2],\n",
       "       [ 12, 374]])"
      ]
     },
     "execution_count": 22,
     "metadata": {},
     "output_type": "execute_result"
    }
   ],
   "source": [
    "cm = confusion_matrix((y_test.argmax(axis=1)), pred_idx, labels=[0,1])\n",
    "cm"
   ]
  },
  {
   "cell_type": "code",
   "execution_count": 23,
   "id": "8c0e3089",
   "metadata": {},
   "outputs": [
    {
     "data": {
      "text/plain": [
       "<AxesSubplot:>"
      ]
     },
     "execution_count": 23,
     "metadata": {},
     "output_type": "execute_result"
    },
    {
     "data": {
      "image/png": "[encoded data removed]",
      "text/plain": [
       "<Figure size 640x480 with 2 Axes>"
      ]
     },
     "metadata": {},
     "output_type": "display_data"
    }
   ],
   "source": [
    "sns.heatmap(cm, annot=True)"
   ]
  },
  {
   "cell_type": "markdown",
   "id": "05464f4d",
   "metadata": {},
   "source": [
    "### Plotting Accuracy and Loss Curves"
   ]
  },
  {
   "cell_type": "code",
   "execution_count": 24,
   "id": "d547a9d7",
   "metadata": {},
   "outputs": [
    {
     "data": {
      "text/plain": [
       "<matplotlib.legend.Legend at 0x1435a6280>"
      ]
     },
     "execution_count": 24,
     "metadata": {},
     "output_type": "execute_result"
    },
    {
     "data": {
      "image/png": "[encoded data removed]",
      "text/plain": [
       "<Figure size 640x480 with 1 Axes>"
      ]
     },
     "metadata": {},
     "output_type": "display_data"
    }
   ],
   "source": [
    "# plot the training loss and accuracy\n",
    "n = epoch\n",
    "plt.style.use(\"ggplot\")\n",
    "plt.figure()\n",
    "plt.plot(np.arange(0, n), History.history[\"loss\"], label=\"Training Loss\")\n",
    "plt.plot(np.arange(0, n), History.history[\"val_loss\"], label=\"Validation_Loss\")\n",
    "plt.plot(np.arange(0, n), History.history[\"accuracy\"], label=\"Training_Accuracy\")\n",
    "plt.plot(np.arange(0, n), History.history[\"val_accuracy\"], label=\"Validation_Accuracy\")\n",
    "plt.title(\"Training Loss and Accuracy\")\n",
    "plt.xlabel(\"Epochs\")\n",
    "plt.ylabel(\"Loss/Accuracy\")\n",
    "plt.legend(loc=\"lower left\")"
   ]
  },
  {
   "cell_type": "markdown",
   "id": "b33ea001",
   "metadata": {},
   "source": [
    "### Reference\n",
    "    FaceMaskDetection - Chandrikadeb7 - Github "
   ]
  },
  {
   "cell_type": "code",
   "execution_count": null,
   "id": "191bea35",
   "metadata": {},
   "outputs": [],
   "source": []
  }
 ],
 "metadata": {
  "kernelspec": {
   "display_name": "Python 3 (ipykernel)",
   "language": "python",
   "name": "python3"
  },
  "language_info": {
   "codemirror_mode": {
    "name": "ipython",
    "version": 3
   },
   "file_extension": ".py",
   "mimetype": "text/x-python",
   "name": "python",
   "nbconvert_exporter": "python",
   "pygments_lexer": "ipython3",
   "version": "3.8.11"
  }
 },
 "nbformat": 4,
 "nbformat_minor": 5
}
